{
 "cells": [
  {
   "cell_type": "code",
   "execution_count": 1,
   "metadata": {},
   "outputs": [],
   "source": [
    "import pandas as pd\n",
    "import matplotlib.pyplot as plt\n",
    "from scipy.stats import linregress"
   ]
  },
  {
   "cell_type": "code",
   "execution_count": null,
   "metadata": {},
   "outputs": [],
   "source": [
    "def draw_plot():\n",
    "    # Read data from file\n",
    "    df = pd.read_csv(\"epa-sea-level.csv\")\n",
    "    x = df[\"Year\"]\n",
    "    y = df[\"CSIRO Adjusted Sea Level\"]\n",
    "\n",
    "    # Create scatter plot\n",
    "    fig, ax = plt.subplots(figsize=(16,9))\n",
    "    plt.scatter(x,y)\n",
    "\n",
    "    # Create first line of best fit\n",
    "    res = linregress(x, y)\n",
    "    plt.plot(x, res.slope * x + res.intercept, 'r')\n",
    "\n",
    "    # Create second line of best fit\n",
    "    new_df = df.loc[df[\"Year\"] >= 2000]\n",
    "    x_new = new_df[\"Year\"]\n",
    "    y_new = new_df[\"CSIRO Adjusted Sea Level\"]\n",
    "    res_new = linregress(x_new, y_new)\n",
    "    plt.plot(x_new, res_new.slope * x_new + res_new.intercept, \"g\")\n",
    "\n",
    "\n",
    "    # Add labels and title\n",
    "    ax.set_title = \"Rise in Sea Levels (inches)\"\n",
    "    ax.set_xlabel = \"Year\"\n",
    "    ax.set_ylabel = \"Sea Levels (inches)\"\n",
    "    \n",
    "    # Save plot and return data for testing (DO NOT MODIFY)\n",
    "    plt.savefig('sea_level_plot.png')\n",
    "    return plt.gca()"
   ]
  }
 ],
 "metadata": {
  "interpreter": {
   "hash": "b207bbb8e0a14f3f174ba36ef60645d531db6ceafaeb1627b987c509ab84c8dc"
  },
  "kernelspec": {
   "display_name": "Python 3.9.7 ('base')",
   "language": "python",
   "name": "python3"
  },
  "language_info": {
   "codemirror_mode": {
    "name": "ipython",
    "version": 3
   },
   "file_extension": ".py",
   "mimetype": "text/x-python",
   "name": "python",
   "nbconvert_exporter": "python",
   "pygments_lexer": "ipython3",
   "version": "3.9.7"
  },
  "orig_nbformat": 4
 },
 "nbformat": 4,
 "nbformat_minor": 2
}
