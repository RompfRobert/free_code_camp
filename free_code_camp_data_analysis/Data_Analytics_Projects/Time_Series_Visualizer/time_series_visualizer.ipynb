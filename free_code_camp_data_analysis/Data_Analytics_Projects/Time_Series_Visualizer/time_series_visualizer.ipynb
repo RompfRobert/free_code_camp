{
 "cells": [
  {
   "cell_type": "code",
   "execution_count": 1,
   "metadata": {},
   "outputs": [],
   "source": [
    "import matplotlib.pyplot as plt\n",
    "import pandas as pd\n",
    "import seaborn as sns\n",
    "from pandas.plotting import register_matplotlib_converters\n",
    "register_matplotlib_converters()"
   ]
  },
  {
   "cell_type": "code",
   "execution_count": 19,
   "metadata": {},
   "outputs": [
    {
     "data": {
      "text/html": [
       "<div>\n",
       "<style scoped>\n",
       "    .dataframe tbody tr th:only-of-type {\n",
       "        vertical-align: middle;\n",
       "    }\n",
       "\n",
       "    .dataframe tbody tr th {\n",
       "        vertical-align: top;\n",
       "    }\n",
       "\n",
       "    .dataframe thead th {\n",
       "        text-align: right;\n",
       "    }\n",
       "</style>\n",
       "<table border=\"1\" class=\"dataframe\">\n",
       "  <thead>\n",
       "    <tr style=\"text-align: right;\">\n",
       "      <th></th>\n",
       "      <th>value</th>\n",
       "    </tr>\n",
       "    <tr>\n",
       "      <th>date</th>\n",
       "      <th></th>\n",
       "    </tr>\n",
       "  </thead>\n",
       "  <tbody>\n",
       "    <tr>\n",
       "      <th>2016-05-09</th>\n",
       "      <td>1201</td>\n",
       "    </tr>\n",
       "    <tr>\n",
       "      <th>2016-05-10</th>\n",
       "      <td>2329</td>\n",
       "    </tr>\n",
       "    <tr>\n",
       "      <th>2016-05-11</th>\n",
       "      <td>1716</td>\n",
       "    </tr>\n",
       "    <tr>\n",
       "      <th>2016-05-12</th>\n",
       "      <td>10539</td>\n",
       "    </tr>\n",
       "    <tr>\n",
       "      <th>2016-05-13</th>\n",
       "      <td>6933</td>\n",
       "    </tr>\n",
       "    <tr>\n",
       "      <th>2016-05-14</th>\n",
       "      <td>3127</td>\n",
       "    </tr>\n",
       "    <tr>\n",
       "      <th>2016-05-15</th>\n",
       "      <td>2927</td>\n",
       "    </tr>\n",
       "    <tr>\n",
       "      <th>2016-05-16</th>\n",
       "      <td>2591</td>\n",
       "    </tr>\n",
       "    <tr>\n",
       "      <th>2016-05-17</th>\n",
       "      <td>3403</td>\n",
       "    </tr>\n",
       "    <tr>\n",
       "      <th>2016-05-18</th>\n",
       "      <td>5410</td>\n",
       "    </tr>\n",
       "  </tbody>\n",
       "</table>\n",
       "</div>"
      ],
      "text/plain": [
       "            value\n",
       "date             \n",
       "2016-05-09   1201\n",
       "2016-05-10   2329\n",
       "2016-05-11   1716\n",
       "2016-05-12  10539\n",
       "2016-05-13   6933\n",
       "2016-05-14   3127\n",
       "2016-05-15   2927\n",
       "2016-05-16   2591\n",
       "2016-05-17   3403\n",
       "2016-05-18   5410"
      ]
     },
     "execution_count": 19,
     "metadata": {},
     "output_type": "execute_result"
    }
   ],
   "source": [
    "# Import data (Make sure to parse dates. Consider setting index column to 'date'.)\n",
    "df = pd.read_csv(\"fcc-forum-pageviews.csv\", parse_dates=['date'], index_col='date')\n",
    "df.head(10)"
   ]
  },
  {
   "cell_type": "code",
   "execution_count": 22,
   "metadata": {},
   "outputs": [],
   "source": [
    "# Clean data\n",
    "df = df.loc[\n",
    "    (df['value'] >= df['value'].quantile(0.025)) &\n",
    "    (df['value'] <= df['value'].quantile(0.975))\n",
    "]"
   ]
  },
  {
   "cell_type": "code",
   "execution_count": 23,
   "metadata": {},
   "outputs": [],
   "source": [
    "def draw_line_plot():\n",
    "    # Draw line plot\n",
    "    fig, ax = plt.subplots(figsize=(15,5))\n",
    "    ax.plot(df.index, df['value'], 'r')\n",
    "\n",
    "    ax.set_title(\"Daily freeCodeCamp Forum Page Views 5/2016-12/2019\")\n",
    "    ax.set_xlabel(\"Date\")\n",
    "    ax.set_ylabel(\"Page Views\")\n",
    "\n",
    "    # Save image and return fig (don't change this part)\n",
    "    fig.savefig('line_plot.png')\n",
    "    return fig"
   ]
  },
  {
   "cell_type": "code",
   "execution_count": 84,
   "metadata": {},
   "outputs": [],
   "source": [
    "def draw_bar_plot():\n",
    "    # Copy and modify data for monthly bar plot\n",
    "    df_bar = df.copy()\n",
    "    df_bar['month'] = df_bar.index.month\n",
    "    df_bar['year'] = df_bar.index.year\n",
    "    df_bar= df_bar.groupby([\"year\",\"month\"])[\"value\"].mean().unstack()\n",
    "\n",
    "    # Draw bar plot\n",
    "    fig = df_bar.plot.bar(legend=True, figsize=(10,10), xlabel=\"Years\", ylabel=\"Average Page Views\").figure\n",
    "\n",
    "    lbs = ['January','February','March','April','May','June','July','August','September','October','November','December']\n",
    "    plt.legend(lbs, title=\"Months\")\n",
    "    \n",
    "    # Save image and return fig (don't change this part)\n",
    "    fig.savefig('bar_plot.png')\n",
    "    return fig"
   ]
  },
  {
   "cell_type": "code",
   "execution_count": 100,
   "metadata": {},
   "outputs": [],
   "source": [
    "def draw_box_plot():\n",
    "    # Prepare data for box plots (this part is done!)\n",
    "    df_box = df.copy()\n",
    "    df_box.reset_index(inplace=True)\n",
    "    df_box['year'] = [d.year for d in df_box.date]\n",
    "    df_box['month'] = [d.strftime('%b') for d in df_box.date]\n",
    "    \n",
    "    # Draw box plots (using Seaborn)\n",
    "    fig, ax = plt.subplots(1,2, sharex=False, figsize=(20,7))\n",
    "    ax[0] = sns.boxplot(ax=ax[0], data=df_box, x=\"year\", y=\"value\")\n",
    "    ax[0].set_title('Year-wise Box Plot (Trend)')\n",
    "    ax[0].set_ylabel('Page Views')\n",
    "    ax[0].set_xlabel('Year')\n",
    "    \n",
    "    ax[1] = sns.boxplot(ax=ax[1], data=df_box, x=\"month\", y=\"value\", order=['Jan','Feb','Mar','Apr','May','Jun', 'Jul', 'Aug', 'Sep', 'Oct', 'Nov', 'Dec'])\n",
    "    ax[1].set_title('Month-wise Box Plot (Seasonality)')\n",
    "    ax[1].set_ylabel('Page Views')\n",
    "    ax[1].set_xlabel('Month')\n",
    "    \n",
    "  # Save image and return fig (don't change this part)\n",
    "    fig.savefig('box_plot.png')\n",
    "    return fig"
   ]
  }
 ],
 "metadata": {
  "interpreter": {
   "hash": "b207bbb8e0a14f3f174ba36ef60645d531db6ceafaeb1627b987c509ab84c8dc"
  },
  "kernelspec": {
   "display_name": "Python 3.9.7 ('base')",
   "language": "python",
   "name": "python3"
  },
  "language_info": {
   "codemirror_mode": {
    "name": "ipython",
    "version": 3
   },
   "file_extension": ".py",
   "mimetype": "text/x-python",
   "name": "python",
   "nbconvert_exporter": "python",
   "pygments_lexer": "ipython3",
   "version": "3.9.7"
  },
  "orig_nbformat": 4
 },
 "nbformat": 4,
 "nbformat_minor": 2
}
